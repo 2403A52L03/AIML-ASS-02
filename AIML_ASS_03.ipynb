{
  "nbformat": 4,
  "nbformat_minor": 0,
  "metadata": {
    "colab": {
      "provenance": [],
      "authorship_tag": "ABX9TyPYqTIzYHkijTQdcYuw/9K4",
      "include_colab_link": true
    },
    "kernelspec": {
      "name": "python3",
      "display_name": "Python 3"
    },
    "language_info": {
      "name": "python"
    }
  },
  "cells": [
    {
      "cell_type": "markdown",
      "metadata": {
        "id": "view-in-github",
        "colab_type": "text"
      },
      "source": [
        "<a href=\"https://colab.research.google.com/github/2403A52L03/AIML-ASS-02/blob/main/AIML_ASS_03.ipynb\" target=\"_parent\"><img src=\"https://colab.research.google.com/assets/colab-badge.svg\" alt=\"Open In Colab\"/></a>"
      ]
    },
    {
      "cell_type": "code",
      "source": [
        "#PART-01"
      ],
      "metadata": {
        "id": "hxHZKLpL-ZZG"
      },
      "execution_count": 28,
      "outputs": []
    },
    {
      "cell_type": "code",
      "source": [
        "\n",
        "\n",
        "from collections import defaultdict,Counter,defaultdict\n",
        "import random\n",
        "from functools import partial,reduce\n",
        "import math\n",
        "import functools\n",
        "cache = functools.lru_cache(10**6)"
      ],
      "metadata": {
        "id": "GFVZjIZo7LtS"
      },
      "execution_count": null,
      "outputs": []
    },
    {
      "source": [
        "class Game:\n",
        "    def actions(self, state):\n",
        "        raise NotImplementedError\n",
        "\n",
        "\n",
        "    def result(self, state, move):\n",
        "        raise NotImplementedError\n",
        "\n",
        "    def is_terminal(self, state):\n",
        "        return not self.actions(state)\n",
        "\n",
        "    def utility(self, state, player):\n",
        "        raise NotImplementedError\n",
        "\n",
        "    def play_game(game, strategies: dict, verbose=False):\n",
        "        state = game.initial\n",
        "        while not game.terminal(state):\n",
        "            player = state.to_move\n",
        "            move = strategies[player](game, state)\n",
        "            state = game.result(state, move)\n",
        "            if verbose:\n",
        "                print('Player', player, 'move:', move)\n",
        "                print(state)\n",
        "        return state.utility(player)"
      ],
      "cell_type": "code",
      "metadata": {
        "id": "xNBCNLgR8wRC"
      },
      "execution_count": 5,
      "outputs": []
    },
    {
      "cell_type": "code",
      "source": [
        "#PART-02(Q-01)\n",
        "\n"
      ],
      "metadata": {
        "id": "evxyyAZe-xv6"
      },
      "execution_count": 10,
      "outputs": []
    },
    {
      "source": [
        "def minimax_search (game , state ):\n",
        "    player = state. to_move\n",
        "    def max_value (state ):\n",
        "        if game. is_terminal (state ):\n",
        "            return game.utility(state , player), None\n",
        "        v, move = -infinity , None\n",
        "        for a in game.actions(state ):\n",
        "            v2 , = min_value (game.result(state , a))\n",
        "            if v2 > v:\n",
        "                v, move = v2 , a\n",
        "        return v, move\n",
        "    def min_value (state ):\n",
        "        if game. is_terminal (state ):\n",
        "            return game.utility(state , player), None\n",
        "        v, move = +infinity , None\n",
        "        for a in game.actions(state ):\n",
        "            v2 , = max_value (game.result(state , a))\n",
        "            if v2 < v:\n",
        "                v, move = v2 , a\n",
        "        return v, move\n",
        "    infinity = math.inf\n",
        "    return max_value (state)"
      ],
      "cell_type": "code",
      "metadata": {
        "id": "WE0CF38j-Bf6"
      },
      "execution_count": 8,
      "outputs": []
    },
    {
      "cell_type": "code",
      "source": [
        "#PART-02(Q-02)"
      ],
      "metadata": {
        "id": "-khGIQeH_DMp"
      },
      "execution_count": 11,
      "outputs": []
    },
    {
      "cell_type": "code",
      "source": [
        "from collections import defaultdict,Counter,defaultdict\n",
        "import random\n",
        "from functools import partial,reduce\n",
        "import math\n",
        "import functools\n",
        "cache = functools.lru_cache(10**6)"
      ],
      "metadata": {
        "id": "ZufcfQRf_FYK"
      },
      "execution_count": 12,
      "outputs": []
    },
    {
      "source": [
        "def alphabeta_search (game , state ):\n",
        "    player = state. to_move\n",
        "    def max_value (state , alpha , beta ):\n",
        "        if game. is_terminal (state ):\n",
        "            return game.utility(state , player), None\n",
        "\n",
        "        v, move = -infinity , None\n",
        "        for a in game.actions(state ):\n",
        "            v2 , = min_value (game.result(state , a), alpha , beta)\n",
        "            if v2 > v:\n",
        "                v, move = v2 , a\n",
        "                alpha = max(alpha , v)\n",
        "                if v >= beta:\n",
        "                    return v, move\n",
        "            return v, move\n",
        "        def min_value (state , alpha , beta ):\n",
        "            if game. is_terminal (state ):\n",
        "                return game.utility(state , player), None\n",
        "            v, move = +infinity , None\n",
        "            for a in game.actions(state ):\n",
        "                v2 , = max_value (game.result(state , a), alpha , beta)\n",
        "                if v2 < v:\n",
        "                    v, move = v2 , a\n",
        "                    beta = min(beta , v)\n",
        "                    if v <= alpha:\n",
        "                        return v, move\n",
        "                return v, move\n",
        "    return max_value (state , -infinity , +infinity )"
      ],
      "cell_type": "code",
      "metadata": {
        "id": "pIt-I8jk_mDK"
      },
      "execution_count": 14,
      "outputs": []
    },
    {
      "cell_type": "code",
      "source": [
        "#PART-03(Q-01)"
      ],
      "metadata": {
        "id": "7Z5-vRaB_vn2"
      },
      "execution_count": 15,
      "outputs": []
    },
    {
      "cell_type": "code",
      "source": [
        "from collections import defaultdict,Counter,defaultdict\n",
        "import random\n",
        "from functools import partial,reduce\n",
        "import math\n",
        "import functools\n",
        "cache = functools.lru_cache(10**6)"
      ],
      "metadata": {
        "id": "q5ITJywS_1wv"
      },
      "execution_count": 16,
      "outputs": []
    },
    {
      "source": [
        "class TicTacToe (Game ):\n",
        "    def __init__(self, height =3, width =3, k=3):\n",
        "        self.k = k\n",
        "        self.squares = {(x, y) for x in range(width) for y in range(height)}\n",
        "        self.initial = Board (height=height, width=width , to_move ='X', utility =0)\n",
        "    def actions(self, board ):\n",
        "        return self.squares - set(board)\n",
        "    def result(self, board , square ):\n",
        "        player = board. to_move\n",
        "        board = board.new({square: player}, to_move =('O' if player == 'X' else 'X'))\n",
        "        win = self.k_in_row (board , player , square , self.k)\n",
        "        board.utility = (0 if not win else +1 if player == 'X' else -1)\n",
        "        return board\n",
        "    def utility(self, board , player ):\n",
        "        return board.utility if player == 'X' else -board.utility\n",
        "    def is_terminal (self, board ):\n",
        "        return board.utility != 0 or len(self.squares) == len(board)\n",
        "    def display(self, board ): print(board)\n",
        "    def k_in_row (self, board , player , square , k):\n",
        "        def in_row (x, y, dx , dy):\n",
        "            return 0 if board.get((x,y), None) != player else 1 + in_row (x + dx , y + dy , dx , dy)\n",
        "        return any( in_row(*square , dx , dy) + in_row(*square , -dx , -dy)-1>=k\n",
        "                   for (dx , dy) in ((0, 1), (1, 0), (1, 1), (1, -1)))"
      ],
      "cell_type": "code",
      "metadata": {
        "id": "Zk5eUiVCBxN7"
      },
      "execution_count": 19,
      "outputs": []
    },
    {
      "cell_type": "code",
      "source": [
        "#PART-03(Q-02)"
      ],
      "metadata": {
        "id": "aN4n3M0PCQk8"
      },
      "execution_count": null,
      "outputs": []
    },
    {
      "cell_type": "code",
      "source": [
        "from collections import defaultdict,Counter,defaultdict\n",
        "import random\n",
        "from functools import partial,reduce\n",
        "import math\n",
        "import functools\n",
        "cache = functools.lru_cache(10**6)"
      ],
      "metadata": {
        "id": "rclRiSZWCX6h"
      },
      "execution_count": 20,
      "outputs": []
    },
    {
      "source": [
        "class Board( defaultdict ):\n",
        "    empty = '.'\n",
        "    off = '#'\n",
        "    def init (self, width =8, height =8, to_move =None , **kwds ):\n",
        "        self. dict .update (width=width , height=height , to_move = to_move , **kwds)\n",
        "        def new (self, changes: dict , **kwds) -> 'Board':\n",
        "            board = Board (width=self.width , height=self.height , **kwds)\n",
        "            board.update(self)\n",
        "            board.update(changes)\n",
        "            return board\n",
        "        def missing (self, loc ):\n",
        "            x, y = loc\n",
        "            if 0 <= x < self.width and 0 <= y < self.height:\n",
        "                return self.empty\n",
        "            else:\n",
        "                return self.off\n",
        "        def hash (self):\n",
        "            return hash(tuple(sorted(self.items ()))) + hash(self. to_move )\n",
        "        def repr (self):\n",
        "            def row(y): return  ''.join(self[x, y] for x in range(self.width ))\n",
        "            return '\\n'.join(map(row , range(self.height ))) + '\\n'"
      ],
      "cell_type": "code",
      "metadata": {
        "id": "TAYkKMyJDXnc"
      },
      "execution_count": 23,
      "outputs": []
    },
    {
      "cell_type": "code",
      "source": [
        "#PART-03(Q-03)"
      ],
      "metadata": {
        "id": "Hgl0PkqODe1r"
      },
      "execution_count": 24,
      "outputs": []
    },
    {
      "cell_type": "code",
      "source": [
        "from collections import defaultdict,Counter,defaultdict\n",
        "import random\n",
        "from functools import partial,reduce\n",
        "import math\n",
        "import functools\n",
        "cache = functools.lru_cache(10**6)"
      ],
      "metadata": {
        "id": "OdIasY5qDmEO"
      },
      "execution_count": 25,
      "outputs": []
    },
    {
      "cell_type": "code",
      "source": [
        "def random_player (game , state ):\n",
        "    return random.choice(list(game.actions(state )))\n",
        "    def player( search_algorithm ):\n",
        "      return lambda game , state: search_algorithm (game , state )[1]\n",
        "\n"
      ],
      "metadata": {
        "id": "QOm784fmDobg"
      },
      "execution_count": 26,
      "outputs": []
    }
  ]
}